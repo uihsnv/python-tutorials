{
 "cells": [
  {
   "cell_type": "markdown",
   "metadata": {
    "slideshow": {
     "slide_type": "slide"
    }
   },
   "source": [
    "#  An Introduction to Python\n",
    "\n",
    "> This is my first approach of the *Jupyter* environment, so expect the unexpected\n",
    "                                                \n",
    "   **Pioneer 10 (1973)** *maybe*"
   ]
  },
  {
   "cell_type": "markdown",
   "metadata": {
    "slideshow": {
     "slide_type": "fragment"
    }
   },
   "source": [
    "### Why is it called *Python*?\n",
    "\n",
    "Oh, well, the creators of the language were probably fans of the then popular and moderately funny **Monty Python** comedy troupe. Check them out; they were ahead of their time."
   ]
  },
  {
   "cell_type": "markdown",
   "metadata": {
    "slideshow": {
     "slide_type": "fragment"
    }
   },
   "source": [
    "### Why Python?\n",
    "\n",
    "* Well, I don't know either. Apparently became very popular as a teaching language in C.S. (Computer Science) courses.\n",
    "* I picked it up because it was the first language I was taught.\n",
    "\n",
    "Disclaimer: I too am in the process of learning the language."
   ]
  },
  {
   "cell_type": "markdown",
   "metadata": {
    "slideshow": {
     "slide_type": "slide"
    }
   },
   "source": [
    "### Tools of the Trade\n",
    "\n",
    "##### The Editor or the IDE (Integrated Development Environment)\n",
    "\n",
    "* Notepad\n",
    "* Gedit\n",
    "* Vim\n",
    "* **Jupyter**\n",
    "\n",
    "Using a single environment for the course will probably make things easier."
   ]
  },
  {
   "cell_type": "markdown",
   "metadata": {
    "slideshow": {
     "slide_type": "slide"
    }
   },
   "source": [
    "### more on Lists"
   ]
  },
  {
   "cell_type": "markdown",
   "metadata": {
    "slideshow": {
     "slide_type": "slide"
    }
   },
   "source": [
    "### Strings"
   ]
  },
  {
   "cell_type": "code",
   "execution_count": null,
   "metadata": {},
   "outputs": [],
   "source": []
  }
 ],
 "metadata": {
  "celltoolbar": "Slideshow",
  "kernelspec": {
   "display_name": "Python 3",
   "language": "python",
   "name": "python3"
  },
  "language_info": {
   "codemirror_mode": {
    "name": "ipython",
    "version": 3
   },
   "file_extension": ".py",
   "mimetype": "text/x-python",
   "name": "python",
   "nbconvert_exporter": "python",
   "pygments_lexer": "ipython3",
   "version": "3.6.4"
  }
 },
 "nbformat": 4,
 "nbformat_minor": 2
}
