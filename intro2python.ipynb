{
 "cells": [
  {
   "cell_type": "markdown",
   "metadata": {
    "slideshow": {
     "slide_type": "slide"
    }
   },
   "source": [
    "#  An Introduction to Python"
   ]
  },
  {
   "cell_type": "markdown",
   "metadata": {
    "slideshow": {
     "slide_type": "subslide"
    }
   },
   "source": [
    "> This is my first approach of the *Jupyter* environment, so expect the unexpected\n",
    "                                                \n",
    "   **Pioneer 10 (1973)** *maybe*"
   ]
  },
  {
   "cell_type": "markdown",
   "metadata": {
    "slideshow": {
     "slide_type": "subslide"
    }
   },
   "source": [
    "### Why Python?\n",
    "\n",
    "* Well, I don't know either. Apparently became very popular as a teaching language in C.S. (Computer Science) courses.\n",
    "* I picked it up because it was the first language I was taught.\n",
    "* You're picking it up because:\n",
    "  1. It's the first language you're being taught, like right now.\n",
    "  2. God whispered in your ear that it is the real shit."
   ]
  },
  {
   "cell_type": "markdown",
   "metadata": {
    "slideshow": {
     "slide_type": "subslide"
    }
   },
   "source": [
    "### But why *Python*?\n",
    "\n",
    "Oh, well, the creators of the language were probably fans of the then popular and moderately funny **Monty Python** comedy troupe. Check them out; they were ahead of their time."
   ]
  },
  {
   "cell_type": "markdown",
   "metadata": {
    "slideshow": {
     "slide_type": "slide"
    }
   },
   "source": []
  },
  {
   "cell_type": "code",
   "execution_count": null,
   "metadata": {},
   "outputs": [],
   "source": []
  }
 ],
 "metadata": {
  "kernelspec": {
   "display_name": "Python 3",
   "language": "python",
   "name": "python3"
  },
  "language_info": {
   "codemirror_mode": {
    "name": "ipython",
    "version": 3
   },
   "file_extension": ".py",
   "mimetype": "text/x-python",
   "name": "python",
   "nbconvert_exporter": "python",
   "pygments_lexer": "ipython3",
   "version": "3.6.4"
  }
 },
 "nbformat": 4,
 "nbformat_minor": 2
}
