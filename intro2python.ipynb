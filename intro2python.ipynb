{
 "cells": [
  {
   "cell_type": "markdown",
   "metadata": {
    "slideshow": {
     "slide_type": "slide"
    }
   },
   "source": [
    "#  An Introduction to Python\n",
    "\n",
    "> This is my first approach of the *Jupyter* environment, so expect the unexpected\n",
    "                                                \n",
    "   **Pioneer 10 (1973)** *maybe*"
   ]
  },
  {
   "cell_type": "markdown",
   "metadata": {
    "slideshow": {
     "slide_type": "fragment"
    }
   },
   "source": [
    "### Why is it called *Python*?\n",
    "\n",
    "Oh, well, the creators of the language were probably fans of the then popular and moderately funny **Monty Python** comedy troupe. Check them out; they were ahead of their time."
   ]
  },
  {
   "cell_type": "markdown",
   "metadata": {
    "slideshow": {
     "slide_type": "fragment"
    }
   },
   "source": [
    "### Why Python?\n",
    "\n",
    "* Well, I don't know either. Apparently became very popular as a teaching language in C.S. (Computer Science) courses.\n",
    "* I picked it up because it was the first language I was taught.\n",
    "\n",
    "Disclaimer: I too am in the process of learning the language."
   ]
  },
  {
   "cell_type": "markdown",
   "metadata": {
    "slideshow": {
     "slide_type": "slide"
    }
   },
   "source": [
    "### Tools of the Trade\n",
    "\n",
    "##### The Editor or the IDE (Integrated Development Environment)\n",
    "\n",
    "* Notepad\n",
    "* Gedit\n",
    "* Vim\n",
    "* **Jupyter**\n",
    "\n",
    "Using a single environment for the course will probably make things easier.\n",
    "\n",
    "##### Look before you Leap\n",
    "\n",
    "Use the internet to get an idea of the \"algorithms\" and means by which people have "
   ]
  },
  {
   "cell_type": "markdown",
   "metadata": {
    "slideshow": {
     "slide_type": "slide"
    }
   },
   "source": [
    "### more on Lists\n",
    "\n",
    "Last time, we saw the syntax for a simple list:"
   ]
  },
  {
   "cell_type": "code",
   "execution_count": null,
   "metadata": {
    "slideshow": {
     "slide_type": "fragment"
    }
   },
   "outputs": [],
   "source": [
    "l = [1, 2, 12, 5, 15]"
   ]
  },
  {
   "cell_type": "markdown",
   "metadata": {
    "slideshow": {
     "slide_type": "fragment"
    }
   },
   "source": [
    "But what else can one put in a list?\n",
    "\n",
    "How about other variables:"
   ]
  },
  {
   "cell_type": "code",
   "execution_count": null,
   "metadata": {
    "slideshow": {
     "slide_type": "fragment"
    }
   },
   "outputs": [],
   "source": [
    "a = 1 ; b = 'cat'; c = 2.3;\n",
    "lov = [a, b, c]\n",
    "print(lov)"
   ]
  },
  {
   "cell_type": "markdown",
   "metadata": {
    "slideshow": {
     "slide_type": "fragment"
    }
   },
   "source": [
    "Can you guess what the list will say if you change the values of the variables?"
   ]
  },
  {
   "cell_type": "code",
   "execution_count": null,
   "metadata": {
    "slideshow": {
     "slide_type": "fragment"
    }
   },
   "outputs": [],
   "source": [
    "a = 42.0 ; b = 10 ; c = 'dog'\n",
    "print(lov)"
   ]
  },
  {
   "cell_type": "markdown",
   "metadata": {
    "slideshow": {
     "slide_type": "fragment"
    }
   },
   "source": [
    "Given that, what do you expect of this:"
   ]
  },
  {
   "cell_type": "code",
   "execution_count": null,
   "metadata": {
    "slideshow": {
     "slide_type": "fragment"
    }
   },
   "outputs": [],
   "source": [
    "lov2 = [a,b,c,d]"
   ]
  },
  {
   "cell_type": "markdown",
   "metadata": {
    "slideshow": {
     "slide_type": "slide"
    }
   },
   "source": [
    "What else can we do with these lists?\n",
    "\n",
    "How about lists of lists?"
   ]
  },
  {
   "cell_type": "code",
   "execution_count": null,
   "metadata": {
    "slideshow": {
     "slide_type": "fragment"
    }
   },
   "outputs": [],
   "source": [
    "lolov = [lov, 'd', 78]\n",
    "print(lolov)"
   ]
  },
  {
   "cell_type": "markdown",
   "metadata": {},
   "source": [
    "Now, what can we do **to** these lists?\n",
    "\n",
    "This question brings us to a nice distinction that Python makes:\n",
    "\n",
    "The _object_ and its _methods_\n",
    "\n",
    "Use Jupyter's tab completion to list all the _methods_ applicable to one of out lists, and guess what each might do:"
   ]
  },
  {
   "cell_type": "code",
   "execution_count": null,
   "metadata": {},
   "outputs": [],
   "source": [
    "lolov."
   ]
  },
  {
   "cell_type": "markdown",
   "metadata": {},
   "source": [
    "##### What is a Program?\n",
    "Syntax + Idea\n",
    "\n",
    "We're trying to look at the 'syntax'. You develop ideas yourself (or copy them from the internet). But you can atleast learn to do so using toy problems and our Problem Sets"
   ]
  },
  {
   "cell_type": "markdown",
   "metadata": {
    "slideshow": {
     "slide_type": "slide"
    }
   },
   "source": [
    "### Strings\n",
    "\n",
    "These are long chains of letters, similar in some ways to lists.\n",
    "\n",
    "Let us look at a useful feature that we skipped for lists: **Slicing**"
   ]
  },
  {
   "cell_type": "code",
   "execution_count": null,
   "metadata": {
    "slideshow": {
     "slide_type": "fragment"
    }
   },
   "outputs": [],
   "source": [
    "Salutation = 'Hello, and a very good evening to you.'\n",
    "Salut = Salutation[:5]\n",
    "Bonsoir = Salutation[11:]\n",
    "print(Salut) ; print(Bonsoir)"
   ]
  },
  {
   "cell_type": "markdown",
   "metadata": {
    "slideshow": {
     "slide_type": "slide"
    }
   },
   "source": [
    "Now, the string _object_ has way more _methods_ to it, and do explore them sometime.\n",
    "\n",
    "This is possible because they are way more restrictive than lists.\n",
    "\n",
    "\n",
    "We saw some _methods_ of the _list_ object, but there exist _functions_ that aren't really methods, which also apply to them.\n",
    "\n",
    "**Concatenation** or **Union**:"
   ]
  },
  {
   "cell_type": "code",
   "execution_count": null,
   "metadata": {
    "slideshow": {
     "slide_type": "fragment"
    }
   },
   "outputs": [],
   "source": [
    "Bienvenu = 'wellcome'\n",
    "Salut + ', ' + Bienvenu + ', and ' + Bonsoir"
   ]
  },
  {
   "cell_type": "markdown",
   "metadata": {
    "slideshow": {
     "slide_type": "fragment"
    }
   },
   "source": [
    "**Length** of the object"
   ]
  },
  {
   "cell_type": "code",
   "execution_count": null,
   "metadata": {
    "slideshow": {
     "slide_type": "fragment"
    }
   },
   "outputs": [],
   "source": [
    "len(Bienvenu)"
   ]
  },
  {
   "cell_type": "code",
   "execution_count": null,
   "metadata": {
    "slideshow": {
     "slide_type": "fragment"
    }
   },
   "outputs": [],
   "source": [
    "len(lolov)"
   ]
  },
  {
   "cell_type": "markdown",
   "metadata": {
    "slideshow": {
     "slide_type": "fragment"
    }
   },
   "source": [
    "Notice that _functions_ do not need to be \"print()\"ed.\n",
    "\n",
    "Refer to the Python documentation for a full list:\n",
    "https://docs.python.org/3/library/functions.html"
   ]
  },
  {
   "cell_type": "markdown",
   "metadata": {
    "slideshow": {
     "slide_type": "slide"
    }
   },
   "source": [
    "### While\n",
    "\n",
    "The while loop is a simple and general looping construct.\n",
    "\n",
    "It has one \"condition\", which, while satisfied, lets the loop run."
   ]
  },
  {
   "cell_type": "code",
   "execution_count": 4,
   "metadata": {
    "slideshow": {
     "slide_type": "fragment"
    }
   },
   "outputs": [
    {
     "name": "stdout",
     "output_type": "stream",
     "text": [
      "1\n",
      "2\n",
      "3\n",
      "4\n",
      "5\n"
     ]
    }
   ],
   "source": [
    "k = 0\n",
    "while k<5:\n",
    "    k = k + 1\n",
    "    print(k)"
   ]
  },
  {
   "cell_type": "code",
   "execution_count": null,
   "metadata": {},
   "outputs": [],
   "source": []
  }
 ],
 "metadata": {
  "kernelspec": {
   "display_name": "Python 3",
   "language": "python",
   "name": "python3"
  },
  "language_info": {
   "codemirror_mode": {
    "name": "ipython",
    "version": 3
   },
   "file_extension": ".py",
   "mimetype": "text/x-python",
   "name": "python",
   "nbconvert_exporter": "python",
   "pygments_lexer": "ipython3",
   "version": "3.6.5"
  }
 },
 "nbformat": 4,
 "nbformat_minor": 2
}
